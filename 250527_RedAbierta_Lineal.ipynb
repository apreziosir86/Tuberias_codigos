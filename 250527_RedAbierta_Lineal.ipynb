{
 "cells": [
  {
   "cell_type": "markdown",
   "id": "363083c8-0a67-4e21-9004-d23ae3520cfe",
   "metadata": {},
   "source": [
    "# TEORÍA LINEAL -  SOLUCIÓN DE SISTEMAS DE TUBERÍAS\n",
    "\n",
    "En este notebook se mostrará cómo se soluciona una red abierta que conecta cuatro tanques con un nodo central. Se conocen las alturas de cada uno de los tanques respecto a un datum y las características físicas de cada una de las tuberías que hacen parte del sistema. Todo parte de la ecuación básica de pérdidas en una tubería:\n",
    "\n",
    "$$h=CQ^n$$\n",
    "\n",
    "Donde $h$ es la pérdida de energía en el sistema, $Q$ el caudal y $n$ el exponente de la ecuación de pérdidas que se esté utilizando ($n=1.85$ para el caso de la ecuación de Hazen-Williams y $n=2$ cuando se habla de la ecuación de Darcy-Weisbach). Para este caso particular, se empleará una versión un poco diferente que permite ponerle un signo al caudal, de acuerdo a su dirección de flujo relativa a los nodos que se están analizando. De esta manera la ecuación se transforma en: \n",
    "\n",
    "$$h=C|Q^{n-1}|Q$$"
   ]
  },
  {
   "cell_type": "markdown",
   "id": "43eed36e-b324-4ac8-8f0e-50780219c4a7",
   "metadata": {},
   "source": [
    "## Ecuaciones de gobierno\n",
    "\n",
    "Las ecuaciones de gobierno que se usarán para resolver el sistema son la consrvación de la masa en nodos y conservación de energía en las tuberías del sistema. En general, se cumple que el número de ecuaciones que se pueden proponer son iguales al número de incógnitas que tiene el sistema. Entonces, en los nodos deberá cumplirse que: \n",
    "\n",
    "$$\\sum_{nodo}Q = 0$$\n",
    "\n",
    "Ahora, para las conservaciones de energía se asumirá que todos los caudales salen del nodo y se dirigen al tanque (en la convención usual de la hidráulica, todos los caudales son positivos). Entonces, las conservaciones de energía para cada nodo se pueden expresar por medio de la ecuación de Bernoulli como: \n",
    "\n",
    "$$H_J=H_i+C_i|Q_i|^{n-1}Q_i$$\n",
    "\n",
    "Donde $H_J$ y $H_i$ son las alturas piezométricas del nodo que se está analizando y el tanque donde termina la tubería $i$, $C_i$ la constante de la ecuación de pérdidas para la tubería $i$ y $Q_i$ el caudal de dicha tubería. Dejando a la izquierda las incógnitas de la ecuación y a la derecha el término conocido de la altura del tanque, la ecuación de energía en general queda:\n",
    "\n",
    "$$H_J-C_i|Q_i|^{n-1}Q = H_i$$"
   ]
  },
  {
   "cell_type": "markdown",
   "id": "f12c3db8-b88b-480e-a5a4-06e88d0e3bd3",
   "metadata": {},
   "source": [
    "## Parte operativa del método\n",
    "\n",
    "Para poder implmentar el método de la teoría lineal, se necesita suponer los caudales de cada uno de los nodos (no importa si cumplen o no conservación de masa en el nodo). Luego, se calculan los productos $C_i|Q_i|^{n-1}$ y se monta un sistema lineal de ecuaciones, cuyas incógnitas serán los caudales $Q_i$ y la altura piezométrica del nodo $H_J$. Cuando se resuelve el sistema, se comparan las suposiciones con los resultados obtenidos. Si son iguales, i.e. están en un nivel de tolerancia aceptable, se habrá obtenido la respuesta definitiva. De lo contrario, los resultados se usan para recalcular los $C_i|Q_i|^{n-1}$ y se repite el proceso tantas veces como sea necesario. "
   ]
  },
  {
   "cell_type": "code",
   "execution_count": 1,
   "id": "5336743d-6c85-48ef-abe6-d8f4239df645",
   "metadata": {},
   "outputs": [],
   "source": [
    "import numpy as np\n",
    "\n",
    "# Alturas de los tanques del problema en metros de elevación\n",
    "H = np.array([24, 2, 12, 6])\n",
    "\n",
    "# Longitudes de cada una de las tuberías\n",
    "L = np.array([1800, 2400, 1200, 2400], dtype = 'float64')\n",
    "\n",
    "# Diámetros de las tuberías en mm\n",
    "D = np.array([500, 600, 400, 900], dtype = 'float64')\n",
    "\n",
    "# Coeficientes de hazen para los tubos\n",
    "Ch = np.array([130, 130, 130, 120], dtype = 'float64')\n",
    "\n",
    "# Pasando los diámetros a metros para los cálculos de la constante\n",
    "D /= 1000"
   ]
  },
  {
   "cell_type": "markdown",
   "id": "cb778c61-aae4-4f40-8f08-14d3c4c89782",
   "metadata": {},
   "source": [
    "### Calculando constante de la ecuación de Hazen-Williams\n",
    "\n",
    "Se usará la ecuación de Hazen-Williams para pérdidas y se aprovechará para determinar la forma de dicha ecuación cuando se necesita hallar la pérdida, en vez de la velocidad o el caudal. Partimos de: \n",
    "\n",
    "$$\\bar{V}=0.849C_HR_h^{0.63}S_f^{0.54}$$\n",
    "\n",
    "Donde $\\bar{V}$ es la velocidad promedio en la tubería, $C_H$ es el coeficiente de Hazen representativo para el material de la tubería, $R_h$ es el radio hidráulico de la sección analizada y $S_f$ es la pendiente de la línea de energía, que se puede expresar como $h_f/L$. Para hallar el caudal, se multiplica por el área de la sección transversal a ambos lados, y se reemplaza el radio hidráulico por $D/4$, ya que se tiene tuberías redondas. \n",
    "\n",
    "$$Q=0.849\\frac{\\pi D^{2.63}C_H}{4^{1.63}}\\Bigg(\\frac{h_f}{L}\\Bigg)^{0.54}$$\n",
    "\n",
    "Calculando los términos constantes: \n",
    "\n",
    "$$Q=0.2784 C_H D^{2.63}\\Bigg(\\frac{h_f}{L}\\Bigg)^{0.54}$$\n",
    "\n",
    "Ahora, queremos despejar las pérdidas $h_F$ de la ecuación de caudal.\n",
    "\n",
    "$$h_f=L\\Bigg(\\frac{Q}{0.2784C_H D^{2.63}}\\Bigg)^{1.85}$$\n",
    "\n",
    "Simplificando lo que se puede y dejando todo como se requiere: \n",
    "\n",
    "$$h_f = 10.674 L \\Bigg(\\frac{Q}{C_H D^{2.63}}\\Bigg)^{1.85}$$\n",
    "\n",
    "La siguiente caja de código ilustra el resultado de las operaciones llevadas a cabo. "
   ]
  },
  {
   "cell_type": "code",
   "execution_count": 2,
   "id": "370fdd8c-70ba-4c68-8534-2378a5806b4b",
   "metadata": {},
   "outputs": [
    {
     "name": "stdout",
     "output_type": "stream",
     "text": [
      "El valor de la constante para la ecuación de caudal es: 0.2784\n",
      "El valor del exponente de Hazen-Williams es: 1.8519\n",
      "La constante que acompaña la ecuación de pérdidas es: 10.6742\n"
     ]
    }
   ],
   "source": [
    "# Cálculo de constante de Hazen-Williams\n",
    "const = 0.849 * np.pi / 4 ** 1.63\n",
    "print('El valor de la constante para la ecuación de caudal es: %.4f'%(const))\n",
    "\n",
    "expon = 1 / 0.54\n",
    "print('El valor del exponente de Hazen-Williams es: %.4f'%(expon))\n",
    "\n",
    "const2 = (1 / const) ** expon\n",
    "print('La constante que acompaña la ecuación de pérdidas es: %.4f'%(const2))"
   ]
  },
  {
   "cell_type": "markdown",
   "id": "19dd0e8f-ebdf-4294-8f99-393cca342ab1",
   "metadata": {},
   "source": [
    "A continuación se enumeran los pasos del método de teoría lineal para la solución de redes. Este método es replicable para cualquier tipo de red que se desee calcular. \n",
    "\n",
    "1. Contar las incógnitas que hay en el sistema\n",
    "2. Plantear las ecuaciones de conservación necesarias y con ellas ensamblar un sistema matriz-vector\n",
    "3. Asumir caudales iniciales y calcular las constantes $C_i|Q_i|^{n-1}$.\n",
    "4. Resolver el sistema y verificar resultados\n",
    "5. Reemplazar los valores obtenidos en la ecuación y volver al paso 3"
   ]
  },
  {
   "cell_type": "code",
   "execution_count": 3,
   "id": "64606a57-23e0-4896-b25f-56aecce194b8",
   "metadata": {},
   "outputs": [],
   "source": [
    "# Construyendouna función que imprime de forma medianamente ordenada el resultado de la solución del \n",
    "# sistema matriz vector propuesto\n",
    "def imprimir_resultado(X):\n",
    "\n",
    "    # Mensaje\n",
    "    msg = [\"Altura de nodo (m): \", \"Caudal \"]\n",
    "\n",
    "    # Imprimiendo el mensaje en un loop\n",
    "    for i, numero in enumerate(X):\n",
    "\n",
    "        if i == 0: print(msg[i] + str(round(X[0], 4)))\n",
    "\n",
    "        else:\n",
    "            sello = msg[1] + ' ' + str(i) + ' (m3/s): ' + str(round(X[i], 4))\n",
    "            print(sello)"
   ]
  },
  {
   "cell_type": "code",
   "execution_count": 4,
   "id": "12a5080c-626c-4998-9eee-43997b8a576e",
   "metadata": {},
   "outputs": [
    {
     "name": "stdout",
     "output_type": "stream",
     "text": [
      "Así queda la matriz del sistema lineal que se pretende resolver: \n",
      "[[  0.      1.      1.      1.      1.   ]\n",
      " [  1.    -17.362   0.      0.      0.   ]\n",
      " [  1.      0.     -9.526   0.      0.   ]\n",
      " [  1.      0.      0.    -34.316   0.   ]\n",
      " [  1.      0.      0.      0.     -1.533]]\n"
     ]
    }
   ],
   "source": [
    "# Calculando el vector de constantes C que tiene cada una de las tuberías\n",
    "C = const2 * L / (Ch * D ** 2.63) ** expon\n",
    "\n",
    "# Asumiendo caudales iniciales en cada una de las tuberías\n",
    "Q0 = np.array([0.2] * 4)\n",
    "\n",
    "# Calculando C |Q|^0.85\n",
    "K = C * np.abs(Q0) ** (expon - 1)\n",
    "\n",
    "# Vector de mano derecha del sistema - el 0 corresponde al resultado de consevación de masa en el nodo\n",
    "# los valores de la altura de los tanques corresponden al resultado de las ecuaciones de conservación \n",
    "# de energía\n",
    "b = np.concatenate(([0], H))\n",
    "\n",
    "# Ensamblando la matriz del sistema\n",
    "A = np.zeros([len(H) + 1, len(H) + 1])\n",
    "\n",
    "# Planteando conservación de la masa en la primera fila de la matriz\n",
    "A[0, 1:] = 1\n",
    "\n",
    "# Para conservación de energía, la primera coumna de la matriz tiene 1, a excepción de la \n",
    "# primera fila\n",
    "A[1:, 0] = 1\n",
    "\n",
    "# Los valores de la constante K van en la diagonal principal de la matriz desde la segunda fila\n",
    "# en adelante. Esto construye las ecuaciones de conservación de energía\n",
    "for i in range(1, len(b)): A[i, i] = -K[i - 1]\n",
    "\n",
    "print('Así queda la matriz del sistema lineal que se pretende resolver: ')\n",
    "print(np.round(A, 3))"
   ]
  },
  {
   "cell_type": "code",
   "execution_count": 5,
   "id": "b1725c91-1ff4-4b7b-b7db-d815b67d437d",
   "metadata": {},
   "outputs": [
    {
     "name": "stdout",
     "output_type": "stream",
     "text": [
      "Altura de nodo (m): 6.9381\n",
      "Caudal  1 (m3/s): -0.9827\n",
      "Caudal  2 (m3/s): 0.5184\n",
      "Caudal  3 (m3/s): -0.1475\n",
      "Caudal  4 (m3/s): 0.6118\n"
     ]
    }
   ],
   "source": [
    "# Resolviendo el sistema lineal de ecuaciones por primera vez: \n",
    "X = np.linalg.solve(A, b)\n",
    "\n",
    "# LLamando la función que imprime el resultado\n",
    "imprimir_resultado(X)"
   ]
  },
  {
   "cell_type": "code",
   "execution_count": null,
   "id": "9ab13acb-a572-440c-ad1c-c746fed9b3e0",
   "metadata": {},
   "outputs": [
    {
     "name": "stdout",
     "output_type": "stream",
     "text": [
      "\n",
      "Iteración 1 \t Error: 8.803e-01\n",
      "Altura de nodo (m): 6.8755\n",
      "Caudal  1 (m3/s): -0.2541\n",
      "Caudal  2 (m3/s): 0.2274\n",
      "Caudal  3 (m3/s): -0.1935\n",
      "Caudal  4 (m3/s): 0.2203\n",
      "\n",
      "Iteración 2 \t Error: 3.345e-01\n",
      "Altura de nodo (m): 6.7493\n",
      "Caudal  1 (m3/s): -0.3798\n",
      "Caudal  2 (m3/s): 0.2933\n",
      "Caudal  3 (m3/s): -0.1753\n",
      "Caudal  4 (m3/s): 0.2618\n",
      "\n",
      "Iteración 3 \t Error: 1.042e-01\n",
      "Altura de nodo (m): 6.7391\n",
      "Caudal  1 (m3/s): -0.4562\n",
      "Caudal  2 (m3/s): 0.3222\n",
      "Caudal  3 (m3/s): -0.1736\n",
      "Caudal  4 (m3/s): 0.3075\n",
      "\n",
      "Iteración 4 \t Error: 4.496e-02\n",
      "Altura de nodo (m): 6.7389\n",
      "Caudal  1 (m3/s): -0.4736\n",
      "Caudal  2 (m3/s): 0.3267\n",
      "Caudal  3 (m3/s): -0.1733\n",
      "Caudal  4 (m3/s): 0.3201\n",
      "\n",
      "Iteración 5 \t Error: 2.234e-02\n",
      "Altura de nodo (m): 6.7389\n",
      "Caudal  1 (m3/s): -0.4753\n",
      "Caudal  2 (m3/s): 0.3271\n",
      "Caudal  3 (m3/s): -0.1733\n",
      "Caudal  4 (m3/s): 0.3215\n",
      "\n",
      "Iteración 6 \t Error: 1.117e-02\n",
      "Altura de nodo (m): 6.7389\n",
      "Caudal  1 (m3/s): -0.4754\n",
      "Caudal  2 (m3/s): 0.3271\n",
      "Caudal  3 (m3/s): -0.1733\n",
      "Caudal  4 (m3/s): 0.3216\n",
      "\n",
      "Iteración 7 \t Error: 5.583e-03\n",
      "Altura de nodo (m): 6.7389\n",
      "Caudal  1 (m3/s): -0.4754\n",
      "Caudal  2 (m3/s): 0.3271\n",
      "Caudal  3 (m3/s): -0.1733\n",
      "Caudal  4 (m3/s): 0.3216\n",
      "\n",
      "Iteración 8 \t Error: 2.792e-03\n",
      "Altura de nodo (m): 6.7389\n",
      "Caudal  1 (m3/s): -0.4754\n",
      "Caudal  2 (m3/s): 0.3271\n",
      "Caudal  3 (m3/s): -0.1733\n",
      "Caudal  4 (m3/s): 0.3216\n",
      "\n",
      "Iteración 9 \t Error: 1.396e-03\n",
      "Altura de nodo (m): 6.7389\n",
      "Caudal  1 (m3/s): -0.4754\n",
      "Caudal  2 (m3/s): 0.3271\n",
      "Caudal  3 (m3/s): -0.1733\n",
      "Caudal  4 (m3/s): 0.3216\n",
      "\n",
      "Iteración 10 \t Error: 6.979e-04\n",
      "Altura de nodo (m): 6.7389\n",
      "Caudal  1 (m3/s): -0.4754\n",
      "Caudal  2 (m3/s): 0.3271\n",
      "Caudal  3 (m3/s): -0.1733\n",
      "Caudal  4 (m3/s): 0.3216\n",
      "\n",
      "Iteración 11 \t Error: 3.489e-04\n",
      "Altura de nodo (m): 6.7389\n",
      "Caudal  1 (m3/s): -0.4754\n",
      "Caudal  2 (m3/s): 0.3271\n",
      "Caudal  3 (m3/s): -0.1733\n",
      "Caudal  4 (m3/s): 0.3216\n",
      "\n",
      "Iteración 12 \t Error: 1.745e-04\n",
      "Altura de nodo (m): 6.7389\n",
      "Caudal  1 (m3/s): -0.4754\n",
      "Caudal  2 (m3/s): 0.3271\n",
      "Caudal  3 (m3/s): -0.1733\n",
      "Caudal  4 (m3/s): 0.3216\n",
      "\n",
      "Iteración 13 \t Error: 8.724e-05\n",
      "Altura de nodo (m): 6.7389\n",
      "Caudal  1 (m3/s): -0.4754\n",
      "Caudal  2 (m3/s): 0.3271\n",
      "Caudal  3 (m3/s): -0.1733\n",
      "Caudal  4 (m3/s): 0.3216\n"
     ]
    }
   ],
   "source": [
    "# Implementando todo en un ciclo que resuelva hasta llegar a una solución \n",
    "# estable:\n",
    "err = 1e10                           # Valor inicial para el error (muy alto)\n",
    "tol = 1e-4                           # Valor de tolerancia del solver\n",
    "count = 1                            # Contador de veces que se itera\n",
    "\n",
    "while err > tol:\n",
    "\n",
    "    # Calcular los K nuevos con los caudales encontrados en la primera iteración\n",
    "    K = C * np.abs(X[1:]) ** (expon - 1)\n",
    "\n",
    "    # Reemplazando los valores de K en la matriz\n",
    "    for i in range(1, len(b)): A[i, i] = -K[i - 1]\n",
    "\n",
    "    # Solucionando el sistema\n",
    "    X1 = np.linalg.solve(A, b)\n",
    "\n",
    "    # Calculando el error\n",
    "    err = np.linalg.norm(X - X1)\n",
    "\n",
    "    # Imprimiendo el resultado\n",
    "    print('\\nIteración %i \\t Error: %.3e'%(count, err))\n",
    "    imprimir_resultado(X1)\n",
    "\n",
    "    # Reemplazando valores \n",
    "    count += 1\n",
    "    X = (X1 + X) / 2 # Se promedia para evitar oscilaciones bruscas "
   ]
  }
 ],
 "metadata": {
  "kernelspec": {
   "display_name": "base",
   "language": "python",
   "name": "python3"
  },
  "language_info": {
   "codemirror_mode": {
    "name": "ipython",
    "version": 3
   },
   "file_extension": ".py",
   "mimetype": "text/x-python",
   "name": "python",
   "nbconvert_exporter": "python",
   "pygments_lexer": "ipython3",
   "version": "3.12.7"
  }
 },
 "nbformat": 4,
 "nbformat_minor": 5
}
