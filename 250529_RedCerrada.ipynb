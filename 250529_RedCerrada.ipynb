{
 "cells": [
  {
   "cell_type": "code",
   "execution_count": 114,
   "id": "296af98b",
   "metadata": {},
   "outputs": [],
   "source": [
    "import numpy as np \n",
    "import matplotlib.pyplot as plt"
   ]
  },
  {
   "cell_type": "code",
   "execution_count": 115,
   "id": "7a8edfb8",
   "metadata": {},
   "outputs": [],
   "source": [
    "# Definir los alpha (las C) de las tuberías\n",
    "alpha = np.array([21, 313, 38.4, 10.6, 469])\n",
    "\n",
    "# Caudales supuestos\n",
    "Q0 = np.array([0.5] * len(alpha))\n",
    "\n",
    "# Parámetros de solución y criterios de parada del sistema\n",
    "# de teoría lineal\n",
    "tol = 1e-4\n",
    "err = 1e10\n",
    "count = 1"
   ]
  },
  {
   "cell_type": "code",
   "execution_count": 116,
   "id": "d1557b8c",
   "metadata": {},
   "outputs": [
    {
     "name": "stdout",
     "output_type": "stream",
     "text": [
      "La matriz del sistema es:\n",
      "\n",
      "[[  1.    0.   -1.   -1.    0. ]\n",
      " [ -1.    1.    0.    0.    0. ]\n",
      " [  0.    0.    0.    1.   -1. ]\n",
      " [ 10.5 156.5  19.2   0.    0. ]\n",
      " [  0.    0.  -19.2   5.3 234.5]]\n",
      "El vector de mano derecha es: \n",
      "\n",
      "[ 1.   0.5 -0.8 -0.7  0. ]\n"
     ]
    }
   ],
   "source": [
    "# Montando la matriz del sistema que carga los coeficientes\n",
    "# Orden de las tuberías: 1-2, 2-3, 3-1, 4-1, 3-4\n",
    "A = np.zeros((len(Q0), len(Q0)))\n",
    "\n",
    "# Llenar la matriz con los coeficientes que conozco. Los de conservación de masa\n",
    "# en los nodos no van a cambiar. Los de conservación de energía hay que \n",
    "# cambiarlos en cada una de las iteraciones.\n",
    "A[0, 0] = 1\n",
    "A[0, 2] = -1\n",
    "A[0, 3] = -1\n",
    "\n",
    "A[1, 0] = -1\n",
    "A[1, 1] = 1\n",
    "\n",
    "A[2, 3] = 1\n",
    "A[2, 4] = -1\n",
    "\n",
    "def llenado_de_matriz(A, Q, alpha):\n",
    "    # Llenar la matriz con los coeficientes de conservación de energía\n",
    "    # en cada iteración. Los coeficientes dependen de los caudales.\n",
    "    A[3, 0] = alpha[0] * np.abs(Q[0])\n",
    "    A[3, 1] = alpha[1] * np.abs(Q[1])\n",
    "    A[3, 2] = alpha[2] * np.abs(Q[2])\n",
    "\n",
    "    A[4, 2] = -alpha[2] * np.abs(Q[2]) \n",
    "    A[4, 3] = alpha[3] * np.abs(Q[3])\n",
    "    A[4, 4] = alpha[4] * np.abs(Q[4])\n",
    "\n",
    "    return A\n",
    "\n",
    "# Llenar la matriz con los coeficientes de conservación de energía\n",
    "A = llenado_de_matriz(A, Q0, alpha)\n",
    "\n",
    "print('La matriz del sistema es:\\n')\n",
    "print(A)\n",
    "\n",
    "# Declarando el vector de mano derecha para la solución del sistema\n",
    "b = np.array([1., 0.5, -0.8, -0.7, 0])\n",
    "\n",
    "print('El vector de mano derecha es: \\n')\n",
    "print(b)"
   ]
  },
  {
   "cell_type": "code",
   "execution_count": 117,
   "id": "e7f9a93d",
   "metadata": {},
   "outputs": [
    {
     "name": "stdout",
     "output_type": "stream",
     "text": [
      "Caudales en la iteración 2: [-0.40633  0.09367 -0.57775 -0.82858 -0.02858]\n",
      "Error en la iteración 2: 1.32857737\n",
      "\n",
      "Caudales en la iteración 3: [-0.49118  0.00882 -0.69435 -0.79682  0.00318]\n",
      "Error en la iteración 3: 0.65547715\n",
      "\n",
      "Caudales en la iteración 4: [-0.33727  0.16273 -0.49088 -0.8464  -0.0464 ]\n",
      "Error en la iteración 4: 0.36584018\n",
      "\n",
      "Caudales en la iteración 5: [-0.32519  0.17481 -0.45085 -0.87435 -0.07435]\n",
      "Error en la iteración 5: 0.21086883\n",
      "\n",
      "Caudales en la iteración 6: [-0.3257   0.1743  -0.45616 -0.86953 -0.06953]\n",
      "Error en la iteración 6: 0.10062085\n",
      "\n",
      "Caudales en la iteración 7: [-0.31966  0.18034 -0.47693 -0.84273 -0.04273]\n",
      "Error en la iteración 7: 0.02894847\n",
      "\n",
      "Caudales en la iteración 8: [-0.32057  0.17943 -0.47377 -0.8468  -0.0468 ]\n",
      "Error en la iteración 8: 0.01582462\n",
      "\n",
      "Caudales en la iteración 9: [-0.32055  0.17945 -0.47385 -0.8467  -0.0467 ]\n",
      "Error en la iteración 9: 0.00780833\n",
      "\n",
      "Caudales en la iteración 10: [-0.32055  0.17945 -0.47385 -0.8467  -0.0467 ]\n",
      "Error en la iteración 10: 0.00390651\n",
      "\n",
      "Caudales en la iteración 11: [-0.32055  0.17945 -0.47385 -0.8467  -0.0467 ]\n",
      "Error en la iteración 11: 0.00195323\n",
      "\n",
      "Caudales en la iteración 12: [-0.32055  0.17945 -0.47385 -0.8467  -0.0467 ]\n",
      "Error en la iteración 12: 0.00097662\n",
      "\n",
      "Caudales en la iteración 13: [-0.32055  0.17945 -0.47385 -0.8467  -0.0467 ]\n",
      "Error en la iteración 13: 0.00048831\n",
      "\n",
      "Caudales en la iteración 14: [-0.32055  0.17945 -0.47385 -0.8467  -0.0467 ]\n",
      "Error en la iteración 14: 0.00024415\n",
      "\n",
      "Caudales en la iteración 15: [-0.32055  0.17945 -0.47385 -0.8467  -0.0467 ]\n",
      "Error en la iteración 15: 0.00012208\n",
      "\n",
      "Caudales en la iteración 16: [-0.32055  0.17945 -0.47385 -0.8467  -0.0467 ]\n",
      "Error en la iteración 16: 0.00006104\n",
      "\n"
     ]
    }
   ],
   "source": [
    "# Iterando para resolver el sistema de forma repetitiva\n",
    "while err > tol: \n",
    "  \n",
    "    if count != 1: \n",
    "        # Actualizar la matriz A con los nuevos caudales\n",
    "        A = llenado_de_matriz(A, Q0, alpha)\n",
    "\n",
    "    # Resolver el sistema de ecuaciones lineales\n",
    "    Q1 = np.linalg.solve(A, b)\n",
    "    \n",
    "    # Calcular el error\n",
    "    err = np.linalg.norm(Q1 - Q0, np.inf)\n",
    "    count += 1\n",
    "\n",
    "    # Actualizar el caudal anterior para la siguiente iteración\n",
    "    # El caudal anterior es el promedio entre el caudal actual y el anterior\n",
    "    Q0 = (Q1  + Q0) / 2\n",
    "\n",
    "    # Imprimiendo cosas de cada iteracion\n",
    "    # print(np.round(A, 3))\n",
    "    print(f\"Caudales en la iteración {count}: {np.round(Q1, 5)}\")\n",
    "    print(f\"Error en la iteración {count}: {err:.8f}\\n\")\n",
    "    \n",
    "# print(f\"Solución final: {Q1}\")"
   ]
  },
  {
   "cell_type": "code",
   "execution_count": 118,
   "id": "b93a3540",
   "metadata": {},
   "outputs": [
    {
     "data": {
      "text/plain": [
       "16"
      ]
     },
     "execution_count": 118,
     "metadata": {},
     "output_type": "execute_result"
    }
   ],
   "source": [
    "count"
   ]
  }
 ],
 "metadata": {
  "kernelspec": {
   "display_name": "base",
   "language": "python",
   "name": "python3"
  },
  "language_info": {
   "codemirror_mode": {
    "name": "ipython",
    "version": 3
   },
   "file_extension": ".py",
   "mimetype": "text/x-python",
   "name": "python",
   "nbconvert_exporter": "python",
   "pygments_lexer": "ipython3",
   "version": "3.12.7"
  }
 },
 "nbformat": 4,
 "nbformat_minor": 5
}
