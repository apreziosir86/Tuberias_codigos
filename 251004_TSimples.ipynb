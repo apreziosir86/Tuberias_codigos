{
 "cells": [
  {
   "cell_type": "markdown",
   "id": "1ccb7dca",
   "metadata": {},
   "source": [
    "# Solución de problemas de tuberías simples\n",
    "\n",
    "En este notebook se hace la solución de problemas de tuberías simples usando los métodos estudiados en clase. Se propone usar expresiones de Colebrook-White, per se podría usar alguna otra aproximación. "
   ]
  },
  {
   "cell_type": "code",
   "execution_count": 18,
   "id": "a712b1aa",
   "metadata": {},
   "outputs": [],
   "source": [
    "import numpy as np \n",
    "import pandas as pd\n",
    "import matplotlib.pyplot as plt "
   ]
  },
  {
   "cell_type": "markdown",
   "id": "dcb68017",
   "metadata": {},
   "source": [
    "## Solucionar ecuación de Colebrook-White por medio de Newton Raphson\n",
    "\n",
    "Para solucionar la ecución del factor de fricción de Colebrook-White, se propone usar el método de Newton-Raphson (que es más trápido que la iteración de punto fijo). Se proponenen las dos funciones y se analiza la velocidad a la que converge cada uno de los métodos, contando el número de iteraciones."
   ]
  },
  {
   "cell_type": "code",
   "execution_count": 25,
   "id": "77c02e53",
   "metadata": {},
   "outputs": [],
   "source": [
    "def CW_pf(Re, D, ks):\n",
    "\n",
    "    # Parámetros de solver\n",
    "    tol = 1e-8\n",
    "    err = 1e10\n",
    "    f0 = 2e-2\n",
    "    count = 1\n",
    "\n",
    "    # Iterando hasta que el error sea menor que la tolerancia\n",
    "    while err > tol:\n",
    "\n",
    "        f1 = (-2 * np.log10(ks / D / 3.7 + 2.51 / Re / np.sqrt(f0))) ** -2\n",
    "\n",
    "        err = np.abs((f1 - f0) / f0)\n",
    "\n",
    "        print(f'Iteración: {count}\\tf = {f1:.7f}\\tErr: {err:.5f}')\n",
    "        f0 = f1\n",
    "        count += 1\n",
    "\n",
    "    return f1\n",
    "\n",
    "# Colebrook-White por Secante:\n",
    "def CW_sec(Re, D, ks):\n",
    "\n",
    "    # Parámetros numéricos\n",
    "    err = 1e10\n",
    "    tol = 1e-8\n",
    "    x0 = (2e-2) ** -2\n",
    "    x1 = (1.5e-2) ** -2\n",
    "    count = 1\n",
    "\n",
    "    # Función para calcular g(x)\n",
    "    gx = lambda x, Re, D, ks: x + 2 * np.log10(ks / D / 3.7 + 2.51 * x / Re)\n",
    "\n",
    "    # Iterando\n",
    "    while err > tol: \n",
    "\n",
    "        # Calculando el nuevo x\n",
    "        x2 = x1 - gx(x1, Re, D, ks) * (x1 - x0) / (gx(x1, Re, D, ks) -\n",
    "                                                   gx(x0, Re, D, ks))\n",
    "        \n",
    "        # Estimando error\n",
    "        err = np.abs((x2 - x1) / x1)\n",
    "\n",
    "        # Imprmiendo valores\n",
    "        print(f'Iteración: {count}\\tf = {x2 ** -2:.7f}\\tErr: {err:.6f}')\n",
    "\n",
    "        # Actualizando valores\n",
    "        count += 1\n",
    "        x0 = x1\n",
    "        x1 = x2\n",
    "\n",
    "    return x2 ** -2    \n",
    "    \n",
    "def CW_NR(Re, D, ks):\n",
    "\n",
    "    # Parámetros numéricos\n",
    "    tol = 1e-8\n",
    "    err = 1e10\n",
    "    x0 = 2e-2 ** -2\n",
    "    kte = 2.51 * 2 / np.log(10)\n",
    "    count = 1\n",
    "\n",
    "    # Funciones lambda\n",
    "    gx = lambda x, Re, D, ks: x + 2 * np.log10(ks / D / 3.7 + 2.51 * x / Re)\n",
    "    gpx = lambda x, Re, D, ks: 1 + kte / (ks / D / 3.7 + 2.51 * x / Re) / Re\n",
    "\n",
    "    while err > tol:\n",
    "\n",
    "        # Calculo el nuevo punto\n",
    "        x1 = x0 - gx(x0, Re, D, ks) / gpx(x0, Re, D, ks)\n",
    "\n",
    "        err = np.abs((x1 - x0) / x0)\n",
    "\n",
    "        print(f'Iteración: {count}\\tf = {x1 ** -2:.7f}\\tErr: {err:.6f}')\n",
    "        count += 1\n",
    "        x0 = x1\n",
    "\n",
    "    return x1 ** -2"
   ]
  },
  {
   "cell_type": "code",
   "execution_count": 26,
   "id": "802c2f6c",
   "metadata": {},
   "outputs": [
    {
     "name": "stdout",
     "output_type": "stream",
     "text": [
      "Iteración: 1\tf = 0.0243538\tErr: 0.21769\n",
      "Iteración: 2\tf = 0.0239966\tErr: 0.01467\n",
      "Iteración: 3\tf = 0.0240226\tErr: 0.00108\n",
      "Iteración: 4\tf = 0.0240207\tErr: 0.00008\n",
      "Iteración: 5\tf = 0.0240208\tErr: 0.00001\n",
      "Iteración: 6\tf = 0.0240208\tErr: 0.00000\n",
      "Iteración: 7\tf = 0.0240208\tErr: 0.00000\n",
      "Iteración: 8\tf = 0.0240208\tErr: 0.00000\n",
      "\n",
      "\n",
      "Iteración: 1\tf = 0.1677305\tErr: 0.999451\n",
      "Iteración: 2\tf = 0.0215873\tErr: 1.787452\n",
      "Iteración: 3\tf = 0.0239823\tErr: 0.051247\n",
      "Iteración: 4\tf = 0.0240208\tErr: 0.000802\n",
      "Iteración: 5\tf = 0.0240208\tErr: 0.000001\n",
      "Iteración: 6\tf = 0.0240208\tErr: 0.000000\n",
      "\n",
      "\n",
      "Iteración: 1\tf = 0.1406276\tErr: 0.998933\n",
      "Iteración: 2\tf = 0.0245236\tErr: 1.394655\n",
      "Iteración: 3\tf = 0.0240209\tErr: 0.010410\n",
      "Iteración: 4\tf = 0.0240208\tErr: 0.000002\n",
      "Iteración: 5\tf = 0.0240208\tErr: 0.000000\n"
     ]
    },
    {
     "data": {
      "text/plain": [
       "0.024020783975372"
      ]
     },
     "execution_count": 26,
     "metadata": {},
     "output_type": "execute_result"
    }
   ],
   "source": [
    "CW_pf(50000, 150, 0.15)\n",
    "print('\\n')\n",
    "CW_sec(50000, 150, 0.15)\n",
    "print('\\n')\n",
    "CW_NR(50000, 150, 0.15)"
   ]
  }
 ],
 "metadata": {
  "kernelspec": {
   "display_name": "base",
   "language": "python",
   "name": "python3"
  },
  "language_info": {
   "codemirror_mode": {
    "name": "ipython",
    "version": 3
   },
   "file_extension": ".py",
   "mimetype": "text/x-python",
   "name": "python",
   "nbconvert_exporter": "python",
   "pygments_lexer": "ipython3",
   "version": "3.12.7"
  }
 },
 "nbformat": 4,
 "nbformat_minor": 5
}
