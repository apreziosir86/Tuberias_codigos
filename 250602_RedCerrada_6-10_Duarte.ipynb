{
 "cells": [
  {
   "cell_type": "markdown",
   "id": "203969ef",
   "metadata": {},
   "source": [
    "## Ejemplo de red cerrada por el método de la teoría lineal\n",
    "\n",
    "Se resuelve, por medio del método de teoróa lineal, el problema 6.10 del libro *Mecánica de fluidos e hidráulica* del profesor Carlos A. Duarte de la Universidad Nacional de Colombia (segunda edición). Se considerará que cada tubería tiene una rugosidad de 0.03 mm y se hallarán los factores de fricción en cada una de las iteraciones para comprobar la respuesta que da el libro, usando los coeficientes C que no permiten que haya variaciones de los factores $f$ de Darcy. "
   ]
  },
  {
   "cell_type": "code",
   "execution_count": 1,
   "id": "e23426dd",
   "metadata": {},
   "outputs": [],
   "source": [
    "import numpy as np\n",
    "import Funciones as funct\n",
    "import pandas as pd"
   ]
  },
  {
   "cell_type": "code",
   "execution_count": 2,
   "id": "938374fd",
   "metadata": {},
   "outputs": [
    {
     "data": {
      "application/vnd.microsoft.datawrangler.viewer.v0+json": {
       "columns": [
        {
         "name": "index",
         "rawType": "int64",
         "type": "integer"
        },
        {
         "name": "Tuberia",
         "rawType": "object",
         "type": "string"
        },
        {
         "name": "Diametro_mm",
         "rawType": "int64",
         "type": "integer"
        },
        {
         "name": "Longitud_m",
         "rawType": "int64",
         "type": "integer"
        },
        {
         "name": "Rugosidad_mm",
         "rawType": "float64",
         "type": "float"
        },
        {
         "name": "ks/D",
         "rawType": "float64",
         "type": "float"
        },
        {
         "name": "Diametro_m",
         "rawType": "float64",
         "type": "float"
        }
       ],
       "ref": "ebe63901-f8dd-4f23-92c4-10d88cc21347",
       "rows": [
        [
         "0",
         "AB",
         "200",
         "500",
         "0.03",
         "0.00015",
         "0.2"
        ],
        [
         "1",
         "BC",
         "150",
         "600",
         "0.03",
         "0.00019999999999999998",
         "0.15"
        ],
        [
         "2",
         "CD",
         "100",
         "200",
         "0.03",
         "0.0003",
         "0.1"
        ],
        [
         "3",
         "DE",
         "150",
         "600",
         "0.03",
         "0.00019999999999999998",
         "0.15"
        ],
        [
         "4",
         "EA",
         "200",
         "600",
         "0.03",
         "0.00015",
         "0.2"
        ],
        [
         "5",
         "BE",
         "100",
         "200",
         "0.03",
         "0.0003",
         "0.1"
        ]
       ],
       "shape": {
        "columns": 6,
        "rows": 6
       }
      },
      "text/html": [
       "<div>\n",
       "<style scoped>\n",
       "    .dataframe tbody tr th:only-of-type {\n",
       "        vertical-align: middle;\n",
       "    }\n",
       "\n",
       "    .dataframe tbody tr th {\n",
       "        vertical-align: top;\n",
       "    }\n",
       "\n",
       "    .dataframe thead th {\n",
       "        text-align: right;\n",
       "    }\n",
       "</style>\n",
       "<table border=\"1\" class=\"dataframe\">\n",
       "  <thead>\n",
       "    <tr style=\"text-align: right;\">\n",
       "      <th></th>\n",
       "      <th>Tuberia</th>\n",
       "      <th>Diametro_mm</th>\n",
       "      <th>Longitud_m</th>\n",
       "      <th>Rugosidad_mm</th>\n",
       "      <th>ks/D</th>\n",
       "      <th>Diametro_m</th>\n",
       "    </tr>\n",
       "  </thead>\n",
       "  <tbody>\n",
       "    <tr>\n",
       "      <th>0</th>\n",
       "      <td>AB</td>\n",
       "      <td>200</td>\n",
       "      <td>500</td>\n",
       "      <td>0.03</td>\n",
       "      <td>0.00015</td>\n",
       "      <td>0.20</td>\n",
       "    </tr>\n",
       "    <tr>\n",
       "      <th>1</th>\n",
       "      <td>BC</td>\n",
       "      <td>150</td>\n",
       "      <td>600</td>\n",
       "      <td>0.03</td>\n",
       "      <td>0.00020</td>\n",
       "      <td>0.15</td>\n",
       "    </tr>\n",
       "    <tr>\n",
       "      <th>2</th>\n",
       "      <td>CD</td>\n",
       "      <td>100</td>\n",
       "      <td>200</td>\n",
       "      <td>0.03</td>\n",
       "      <td>0.00030</td>\n",
       "      <td>0.10</td>\n",
       "    </tr>\n",
       "    <tr>\n",
       "      <th>3</th>\n",
       "      <td>DE</td>\n",
       "      <td>150</td>\n",
       "      <td>600</td>\n",
       "      <td>0.03</td>\n",
       "      <td>0.00020</td>\n",
       "      <td>0.15</td>\n",
       "    </tr>\n",
       "    <tr>\n",
       "      <th>4</th>\n",
       "      <td>EA</td>\n",
       "      <td>200</td>\n",
       "      <td>600</td>\n",
       "      <td>0.03</td>\n",
       "      <td>0.00015</td>\n",
       "      <td>0.20</td>\n",
       "    </tr>\n",
       "    <tr>\n",
       "      <th>5</th>\n",
       "      <td>BE</td>\n",
       "      <td>100</td>\n",
       "      <td>200</td>\n",
       "      <td>0.03</td>\n",
       "      <td>0.00030</td>\n",
       "      <td>0.10</td>\n",
       "    </tr>\n",
       "  </tbody>\n",
       "</table>\n",
       "</div>"
      ],
      "text/plain": [
       "  Tuberia  Diametro_mm  Longitud_m  Rugosidad_mm     ks/D  Diametro_m\n",
       "0      AB          200         500          0.03  0.00015        0.20\n",
       "1      BC          150         600          0.03  0.00020        0.15\n",
       "2      CD          100         200          0.03  0.00030        0.10\n",
       "3      DE          150         600          0.03  0.00020        0.15\n",
       "4      EA          200         600          0.03  0.00015        0.20\n",
       "5      BE          100         200          0.03  0.00030        0.10"
      ]
     },
     "execution_count": 2,
     "metadata": {},
     "output_type": "execute_result"
    }
   ],
   "source": [
    "# VARIABLES GEOMÉTRICAS DE LA RED DESCRITA. \n",
    "Tuberias = ['AB', 'BC', 'CD', 'DE', 'EA', 'BE']\n",
    "Diam_mm = [200, 150, 100, 150, 200, 100]\n",
    "Long_m = [500, 600, 200, 600, 600, 200]\n",
    "Rugos_mm = [0.03] * 6\n",
    "\n",
    "# Volviendo las variables un dataframe\n",
    "Tuberias_df = pd.DataFrame({\n",
    "    'Tuberia': Tuberias,\n",
    "    'Diametro_mm': Diam_mm,\n",
    "    'Longitud_m': Long_m,\n",
    "    'Rugosidad_mm': Rugos_mm\n",
    "})\n",
    "\n",
    "Tuberias_df['ks/D'] = Tuberias_df['Rugosidad_mm'] / Tuberias_df['Diametro_mm']\n",
    "Tuberias_df['Diametro_m'] = Tuberias_df['Diametro_mm'] / 1000\n",
    "Tuberias_df"
   ]
  },
  {
   "cell_type": "code",
   "execution_count": 3,
   "id": "b36b5944",
   "metadata": {},
   "outputs": [
    {
     "data": {
      "application/vnd.microsoft.datawrangler.viewer.v0+json": {
       "columns": [
        {
         "name": "index",
         "rawType": "int64",
         "type": "integer"
        },
        {
         "name": "Tuberia",
         "rawType": "object",
         "type": "string"
        },
        {
         "name": "Diametro_mm",
         "rawType": "int64",
         "type": "integer"
        },
        {
         "name": "Longitud_m",
         "rawType": "int64",
         "type": "integer"
        },
        {
         "name": "Rugosidad_mm",
         "rawType": "float64",
         "type": "float"
        },
        {
         "name": "ks/D",
         "rawType": "float64",
         "type": "float"
        },
        {
         "name": "Diametro_m",
         "rawType": "float64",
         "type": "float"
        }
       ],
       "ref": "1728ee48-f2d7-4a08-b7ce-07db03d384bd",
       "rows": [
        [
         "0",
         "BC",
         "150",
         "600",
         "0.03",
         "0.00019999999999999998",
         "0.15"
        ],
        [
         "1",
         "CD",
         "100",
         "200",
         "0.03",
         "0.0003",
         "0.1"
        ],
        [
         "2",
         "DE",
         "150",
         "600",
         "0.03",
         "0.00019999999999999998",
         "0.15"
        ],
        [
         "3",
         "BE",
         "100",
         "200",
         "0.03",
         "0.0003",
         "0.1"
        ]
       ],
       "shape": {
        "columns": 6,
        "rows": 4
       }
      },
      "text/html": [
       "<div>\n",
       "<style scoped>\n",
       "    .dataframe tbody tr th:only-of-type {\n",
       "        vertical-align: middle;\n",
       "    }\n",
       "\n",
       "    .dataframe tbody tr th {\n",
       "        vertical-align: top;\n",
       "    }\n",
       "\n",
       "    .dataframe thead th {\n",
       "        text-align: right;\n",
       "    }\n",
       "</style>\n",
       "<table border=\"1\" class=\"dataframe\">\n",
       "  <thead>\n",
       "    <tr style=\"text-align: right;\">\n",
       "      <th></th>\n",
       "      <th>Tuberia</th>\n",
       "      <th>Diametro_mm</th>\n",
       "      <th>Longitud_m</th>\n",
       "      <th>Rugosidad_mm</th>\n",
       "      <th>ks/D</th>\n",
       "      <th>Diametro_m</th>\n",
       "    </tr>\n",
       "  </thead>\n",
       "  <tbody>\n",
       "    <tr>\n",
       "      <th>0</th>\n",
       "      <td>BC</td>\n",
       "      <td>150</td>\n",
       "      <td>600</td>\n",
       "      <td>0.03</td>\n",
       "      <td>0.0002</td>\n",
       "      <td>0.15</td>\n",
       "    </tr>\n",
       "    <tr>\n",
       "      <th>1</th>\n",
       "      <td>CD</td>\n",
       "      <td>100</td>\n",
       "      <td>200</td>\n",
       "      <td>0.03</td>\n",
       "      <td>0.0003</td>\n",
       "      <td>0.10</td>\n",
       "    </tr>\n",
       "    <tr>\n",
       "      <th>2</th>\n",
       "      <td>DE</td>\n",
       "      <td>150</td>\n",
       "      <td>600</td>\n",
       "      <td>0.03</td>\n",
       "      <td>0.0002</td>\n",
       "      <td>0.15</td>\n",
       "    </tr>\n",
       "    <tr>\n",
       "      <th>3</th>\n",
       "      <td>BE</td>\n",
       "      <td>100</td>\n",
       "      <td>200</td>\n",
       "      <td>0.03</td>\n",
       "      <td>0.0003</td>\n",
       "      <td>0.10</td>\n",
       "    </tr>\n",
       "  </tbody>\n",
       "</table>\n",
       "</div>"
      ],
      "text/plain": [
       "  Tuberia  Diametro_mm  Longitud_m  Rugosidad_mm    ks/D  Diametro_m\n",
       "0      BC          150         600          0.03  0.0002        0.15\n",
       "1      CD          100         200          0.03  0.0003        0.10\n",
       "2      DE          150         600          0.03  0.0002        0.15\n",
       "3      BE          100         200          0.03  0.0003        0.10"
      ]
     },
     "execution_count": 3,
     "metadata": {},
     "output_type": "execute_result"
    }
   ],
   "source": [
    "# Declarando arreglos que contienen las tuberías que conforman cada uno de los \n",
    "# circuitos\n",
    "CircuitoI = ['AB', 'EA', 'BE']\n",
    "CircuitoII = ['BC', 'CD', 'DE', 'BE']\n",
    "\n",
    "# Filtrando las tuberías que conforman cada circuito\n",
    "Tuberias_CircuitoI = Tuberias_df[\n",
    "    Tuberias_df['Tuberia'].isin(CircuitoI)].reset_index(drop=True)\n",
    "Tuberias_CircuitoII = Tuberias_df[\n",
    "    Tuberias_df['Tuberia'].isin(CircuitoII)].reset_index(drop=True)\n",
    "\n",
    "Tuberias_CircuitoII"
   ]
  },
  {
   "cell_type": "code",
   "execution_count": 4,
   "id": "6aea958a",
   "metadata": {},
   "outputs": [
    {
     "name": "stdout",
     "output_type": "stream",
     "text": [
      "Matriz de coeficientes después de agregar las ecuaciones de conservación de masa:\n"
     ]
    },
    {
     "data": {
      "text/plain": [
       "array([[-1.,  1.,  0.,  0.,  0.,  1.],\n",
       "       [ 0., -1.,  1.,  0.,  0.,  0.],\n",
       "       [ 0.,  0., -1.,  1.,  0.,  0.],\n",
       "       [ 0.,  0.,  0., -1.,  1., -1.],\n",
       "       [ 0.,  0.,  0.,  0.,  0.,  0.],\n",
       "       [ 0.,  0.,  0.,  0.,  0.,  0.]])"
      ]
     },
     "execution_count": 4,
     "metadata": {},
     "output_type": "execute_result"
    }
   ],
   "source": [
    "# Como debo resolver un sistema de 6x6, se crea una matriz de coeficentes para \n",
    "# la colución del mismo. Se pondrán las ecuaciones de conservación de masa en \n",
    "# los nodos en las primeras filas (son 4 ecuaciones), y las ecuaciones de \n",
    "# conservación de energía en las últimas dos filas (una por circuito).\n",
    "\n",
    "Mat_coefic = np.zeros((len(Tuberias), len(Tuberias)), dtype=float)\n",
    "\n",
    "# Agrego a mano las ecauciones de conservación de masa en los nodos:\n",
    "# Nodo B:\n",
    "Mat_coefic[0, 0] = -1\n",
    "Mat_coefic[0, 1] = 1\n",
    "Mat_coefic[0, 5] = 1\n",
    "\n",
    "# Nodo C:\n",
    "Mat_coefic[1, 1] = -1\n",
    "Mat_coefic[1, 2] = 1\n",
    "\n",
    "# Nodo D:\n",
    "Mat_coefic[2, 2] = -1\n",
    "Mat_coefic[2, 3] = 1\n",
    "\n",
    "# Nodo E:\n",
    "Mat_coefic[3, 3] = -1\n",
    "Mat_coefic[3, 4] = 1\n",
    "Mat_coefic[3, 5] = -1\n",
    "\n",
    "# Imprimiendo la matriz de coeficientes hasta el momento:\n",
    "print(\"Matriz de coeficientes después de agregar las ecuaciones \" +\n",
    " \"de conservación de masa:\")\n",
    "Mat_coefic"
   ]
  },
  {
   "cell_type": "code",
   "execution_count": 5,
   "id": "61c983fb",
   "metadata": {},
   "outputs": [
    {
     "data": {
      "text/plain": [
       "array([[   -1.    ,     1.    ,     0.    ,     0.    ,     0.    ,\n",
       "            1.    ],\n",
       "       [    0.    ,    -1.    ,     1.    ,     0.    ,     0.    ,\n",
       "            0.    ],\n",
       "       [    0.    ,     0.    ,    -1.    ,     1.    ,     0.    ,\n",
       "            0.    ],\n",
       "       [    0.    ,     0.    ,     0.    ,    -1.    ,     1.    ,\n",
       "           -1.    ],\n",
       "       [  190.9418,     0.    ,     0.    ,     0.    ,   229.1302,\n",
       "         2576.0652],\n",
       "       [    0.    ,   976.2173,  2576.0652,   976.2173,     0.    ,\n",
       "        -2576.0652]])"
      ]
     },
     "execution_count": 5,
     "metadata": {},
     "output_type": "execute_result"
    }
   ],
   "source": [
    "# Ahora se definirá una función para poder llenar las ecuaciones de conservación \n",
    "# de la energía en cada uno de los circuitos. La función recibe la matriz A, un \n",
    "# vector con caudales supuestos y el dataframe de las tuberías. \n",
    "# Devuelve la matriz A llena con las ecuaciones.\n",
    "def llenar_matriz(A, Q, Tub):\n",
    "\n",
    "    # Agrego una columna al dataframe con los caudales, con esta hallo RE y \n",
    "    # luego los factores de fricción. Por último, otra que calcule los \n",
    "    # coeficientes de la pérdida de carga\n",
    "    Tub['Q'] = Q\n",
    "    Tub['Re'] = 4 * np.abs(Tub['Q']) / (np.pi * Tub['Diametro_m'] * 1.14e-6)\n",
    "    Tub['f'] = funct.Col_Whi(Tub['Diametro_mm'], Tub['Rugosidad_mm'],\n",
    "    Tub['Re'])\n",
    "    Tub['K'] = 0.0826 * Tub['f'] * Tub['Longitud_m'] / Tub['Diametro_m'] ** 5\n",
    "\n",
    "    # Ecuación para el circuito I (fila 4): \n",
    "    A[4, 0] = Tub['K'][0] * np.abs(Tub['Q'][0])\n",
    "    A[4, 4] = Tub['K'][4] * np.abs(Tub['Q'][4])\n",
    "    A[4, 5] = Tub['K'][5] * np.abs(Tub['Q'][5])\n",
    "\n",
    "    # Ecuación para el circuito II (fila 5):\n",
    "    A[5, 1] = Tub['K'][1] * np.abs(Tub['Q'][1])\n",
    "    A[5, 2] = Tub['K'][2] * np.abs(Tub['Q'][2])\n",
    "    A[5, 3] = Tub['K'][3] * np.abs(Tub['Q'][3])\n",
    "    A[5, 5] = -Tub['K'][5] * np.abs(Tub['Q'][5])\n",
    "\n",
    "    # Devolviendo la matriz A completa:\n",
    "    return A\n",
    "\n",
    "# Haciendo una prueba del llenado de la matriz con un vector cualquiera de \n",
    "# caudales\n",
    "np.set_printoptions(precision=4, suppress=True)\n",
    "llenar_matriz(Mat_coefic, [0.1] * 6, Tuberias_df)"
   ]
  },
  {
   "cell_type": "code",
   "execution_count": null,
   "id": "18f80d6d",
   "metadata": {},
   "outputs": [
    {
     "name": "stdout",
     "output_type": "stream",
     "text": [
      "\n",
      "Iteración: 1\n",
      " Caudales: [ 0.1081   0.04794 -0.00206 -0.04206 -0.0919   0.00016]\n",
      " Error: 0.191902\n",
      "\n",
      "Iteración: 2\n",
      " Caudales: [ 0.08281  0.03367 -0.01633 -0.05633 -0.11719 -0.01086]\n",
      " Error: 0.121243\n",
      "\n",
      "Iteración: 3\n",
      " Caudales: [ 0.09007  0.03183 -0.01817 -0.05817 -0.10993 -0.00176]\n",
      " Error: 0.053360\n",
      "\n",
      "Iteración: 4\n",
      " Caudales: [ 0.10373  0.0424  -0.0076  -0.0476  -0.09627  0.00133]\n",
      " Error: 0.013022\n",
      "\n",
      "Iteración: 5\n",
      " Caudales: [ 0.10531  0.04539 -0.00461 -0.04461 -0.09469 -0.00008]\n",
      " Error: 0.007576\n",
      "\n",
      "Iteración: 6\n",
      " Caudales: [ 0.1049   0.04538 -0.00462 -0.04462 -0.0951  -0.00048]\n",
      " Error: 0.003374\n",
      "\n",
      "Iteración: 7\n",
      " Caudales: [ 0.1048   0.04542 -0.00458 -0.04458 -0.0952  -0.00061]\n",
      " Error: 0.001632\n",
      "\n",
      "Iteración: 8\n",
      " Caudales: [ 0.10477  0.04543 -0.00457 -0.04457 -0.09523 -0.00066]\n",
      " Error: 0.000859\n",
      "\n",
      "Iteración: 9\n",
      " Caudales: [ 0.1048   0.04542 -0.00458 -0.04458 -0.0952  -0.00062]\n",
      " Error: 0.000406\n",
      "\n",
      "Iteración: 10\n",
      " Caudales: [ 0.10481  0.04541 -0.00459 -0.04459 -0.09519 -0.0006 ]\n",
      " Error: 0.000217\n",
      "\n",
      "Iteración: 11\n",
      " Caudales: [ 0.10481  0.04541 -0.00459 -0.04459 -0.09519 -0.0006 ]\n",
      " Error: 0.000108\n",
      "\n",
      "Iteración: 12\n",
      " Caudales: [ 0.10481  0.04541 -0.00459 -0.04459 -0.09519 -0.0006 ]\n",
      " Error: 0.000054\n",
      "\n",
      "Iteración: 13\n",
      " Caudales: [ 0.10481  0.04541 -0.00459 -0.04459 -0.09519 -0.0006 ]\n",
      " Error: 0.000027\n",
      "\n",
      "Iteración: 14\n",
      " Caudales: [ 0.10481  0.04541 -0.00459 -0.04459 -0.09519 -0.0006 ]\n",
      " Error: 0.000014\n",
      "\n",
      "Iteración: 15\n",
      " Caudales: [ 0.10481  0.04541 -0.00459 -0.04459 -0.09519 -0.0006 ]\n",
      " Error: 0.000007\n",
      "\n",
      "Iteración: 16\n",
      " Caudales: [ 0.10481  0.04541 -0.00459 -0.04459 -0.09519 -0.0006 ]\n",
      " Error: 0.000003\n",
      "\n",
      "Iteración: 17\n",
      " Caudales: [ 0.10481  0.04541 -0.00459 -0.04459 -0.09519 -0.0006 ]\n",
      " Error: 0.000002\n",
      "\n",
      "Iteración: 18\n",
      " Caudales: [ 0.10481  0.04541 -0.00459 -0.04459 -0.09519 -0.0006 ]\n",
      " Error: 0.000001\n"
     ]
    }
   ],
   "source": [
    "np.set_printoptions(precision=5, suppress=True)\n",
    "# Ahora defino el vector de mano derecha para la solución del sistema de \n",
    "# ecuaciones\n",
    "b = np.array([-0.06, -0.05, -0.04, -0.05, 0., 0.])\n",
    "\n",
    "# Ahora, se supone un vector de caudales iniciales para resolver el sistema, se\n",
    "# resuelve, se imprime el resultado y se actualiza la solución hasta que llegue \n",
    "# a una condición estable\n",
    "err = 1e10\n",
    "tol = 1e-6\n",
    "count = 1\n",
    "\n",
    "Q0 = np.array([0.1] * 6, dtype=float)\n",
    "\n",
    "while err > tol:\n",
    "\n",
    "    # Llenando la matriz de coeficientes con los caudales actuales\n",
    "    Mat_coefic = llenar_matriz(Mat_coefic, Q0, Tuberias_df)\n",
    "\n",
    "    # Resolviendo el sistema de ecuaciones\n",
    "    Q1 = np.linalg.solve(Mat_coefic, b)\n",
    "\n",
    "    # Calculando el error entre la solución actual y la anterior\n",
    "    err = np.max(np.abs(Q1 - Q0))\n",
    "\n",
    "    # Imprimiendo valores hallados y su error\n",
    "    print(f\"\\nIteración: {count}\\n Caudales: {Q1}\\n Error: {err:.6f}\")\n",
    "\n",
    "    # Actualizando el vector de caudales para la siguiente iteración\n",
    "    Q0 = 0.5 * (Q1 + Q0)\n",
    "\n",
    "    # Incrementando el contador de iteraciones\n",
    "    count += 1 "
   ]
  },
  {
   "cell_type": "code",
   "execution_count": 7,
   "id": "6b5c0755",
   "metadata": {},
   "outputs": [
    {
     "name": "stdout",
     "output_type": "stream",
     "text": [
      "\n",
      "Dataframe final con los caudales hallados:\n"
     ]
    },
    {
     "data": {
      "application/vnd.microsoft.datawrangler.viewer.v0+json": {
       "columns": [
        {
         "name": "index",
         "rawType": "int64",
         "type": "integer"
        },
        {
         "name": "Tuberia",
         "rawType": "object",
         "type": "string"
        },
        {
         "name": "Q_m3/s",
         "rawType": "float64",
         "type": "float"
        },
        {
         "name": "Q_l/s",
         "rawType": "float64",
         "type": "float"
        }
       ],
       "ref": "437d46f9-fd38-4b39-8d33-5063509bde67",
       "rows": [
        [
         "0",
         "AB",
         "0.1048",
         "104.81"
        ],
        [
         "1",
         "BC",
         "0.0454",
         "45.41"
        ],
        [
         "2",
         "CD",
         "-0.0046",
         "-4.59"
        ],
        [
         "3",
         "DE",
         "-0.0446",
         "-44.59"
        ],
        [
         "4",
         "EA",
         "-0.0952",
         "-95.19"
        ],
        [
         "5",
         "BE",
         "-0.0006",
         "-0.6"
        ]
       ],
       "shape": {
        "columns": 3,
        "rows": 6
       }
      },
      "text/html": [
       "<div>\n",
       "<style scoped>\n",
       "    .dataframe tbody tr th:only-of-type {\n",
       "        vertical-align: middle;\n",
       "    }\n",
       "\n",
       "    .dataframe tbody tr th {\n",
       "        vertical-align: top;\n",
       "    }\n",
       "\n",
       "    .dataframe thead th {\n",
       "        text-align: right;\n",
       "    }\n",
       "</style>\n",
       "<table border=\"1\" class=\"dataframe\">\n",
       "  <thead>\n",
       "    <tr style=\"text-align: right;\">\n",
       "      <th></th>\n",
       "      <th>Tuberia</th>\n",
       "      <th>Q_m3/s</th>\n",
       "      <th>Q_l/s</th>\n",
       "    </tr>\n",
       "  </thead>\n",
       "  <tbody>\n",
       "    <tr>\n",
       "      <th>0</th>\n",
       "      <td>AB</td>\n",
       "      <td>0.1048</td>\n",
       "      <td>104.81</td>\n",
       "    </tr>\n",
       "    <tr>\n",
       "      <th>1</th>\n",
       "      <td>BC</td>\n",
       "      <td>0.0454</td>\n",
       "      <td>45.41</td>\n",
       "    </tr>\n",
       "    <tr>\n",
       "      <th>2</th>\n",
       "      <td>CD</td>\n",
       "      <td>-0.0046</td>\n",
       "      <td>-4.59</td>\n",
       "    </tr>\n",
       "    <tr>\n",
       "      <th>3</th>\n",
       "      <td>DE</td>\n",
       "      <td>-0.0446</td>\n",
       "      <td>-44.59</td>\n",
       "    </tr>\n",
       "    <tr>\n",
       "      <th>4</th>\n",
       "      <td>EA</td>\n",
       "      <td>-0.0952</td>\n",
       "      <td>-95.19</td>\n",
       "    </tr>\n",
       "    <tr>\n",
       "      <th>5</th>\n",
       "      <td>BE</td>\n",
       "      <td>-0.0006</td>\n",
       "      <td>-0.60</td>\n",
       "    </tr>\n",
       "  </tbody>\n",
       "</table>\n",
       "</div>"
      ],
      "text/plain": [
       "  Tuberia  Q_m3/s   Q_l/s\n",
       "0      AB  0.1048  104.81\n",
       "1      BC  0.0454   45.41\n",
       "2      CD -0.0046   -4.59\n",
       "3      DE -0.0446  -44.59\n",
       "4      EA -0.0952  -95.19\n",
       "5      BE -0.0006   -0.60"
      ]
     },
     "execution_count": 7,
     "metadata": {},
     "output_type": "execute_result"
    }
   ],
   "source": [
    "# Agregando los caudales hallados al dataframe de tuberías: \n",
    "Tuberias_df['Q_m3/s'] = Q1\n",
    "Tuberias_df['Q_l/s'] = np.round(Tuberias_df['Q_m3/s'] * 1000, 2)\n",
    "\n",
    "# Imprimiendo el dataframe final con los caudales hallados\n",
    "print(\"\\nDataframe final con los caudales hallados:\")\n",
    "Tuberias_df[['Tuberia', 'Q_m3/s', 'Q_l/s']].round(4)"
   ]
  }
 ],
 "metadata": {
  "kernelspec": {
   "display_name": "base",
   "language": "python",
   "name": "python3"
  },
  "language_info": {
   "codemirror_mode": {
    "name": "ipython",
    "version": 3
   },
   "file_extension": ".py",
   "mimetype": "text/x-python",
   "name": "python",
   "nbconvert_exporter": "python",
   "pygments_lexer": "ipython3",
   "version": "3.12.7"
  }
 },
 "nbformat": 4,
 "nbformat_minor": 5
}
