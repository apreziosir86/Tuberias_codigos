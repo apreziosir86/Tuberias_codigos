{
 "cells": [
  {
   "cell_type": "code",
   "execution_count": 79,
   "id": "2e09264b",
   "metadata": {},
   "outputs": [],
   "source": [
    "import numpy as np \n",
    "import pandas as pd"
   ]
  },
  {
   "cell_type": "markdown",
   "id": "805da456",
   "metadata": {},
   "source": [
    "## Punto 2:\n",
    "\n",
    "Hallar los caudales de la tubería del sistema contra incendios de una bodega que tiene la distribución que se ve en la figura. \n",
    "\n",
    "Además, hallar la carga piezométrica en cada uno de los nodos, teniendo el cuenta que el tanque de abastecimiento está a un nivel de 100 m y los nodos del sistema están a una altura física de 70 m.\n",
    "\n",
    "### Inicio de la solución\n",
    "\n",
    "El tubo que va del tanque a la red debe proveer un caudal de 120 L/s, para que se cumpla conservación de masa en todo el sistema. Por el momento, dejaremos el tubo aparte y luego veremos qué hacer con las pérdidas, resolveremos un sistema con una entrada neta de 105 L/s en el nodo 1, hallaremos los caudales y luego, las pérdidas."
   ]
  },
  {
   "cell_type": "code",
   "execution_count": null,
   "id": "b07feddc",
   "metadata": {},
   "outputs": [
    {
     "data": {
      "application/vnd.microsoft.datawrangler.viewer.v0+json": {
       "columns": [
        {
         "name": "index",
         "rawType": "int64",
         "type": "integer"
        },
        {
         "name": "Tuberia",
         "rawType": "object",
         "type": "string"
        },
        {
         "name": "Long (m)",
         "rawType": "float64",
         "type": "float"
        },
        {
         "name": "Diam (mm)",
         "rawType": "float64",
         "type": "float"
        },
        {
         "name": "CH",
         "rawType": "float64",
         "type": "float"
        },
        {
         "name": "Diam (m)",
         "rawType": "float64",
         "type": "float"
        },
        {
         "name": "K",
         "rawType": "float64",
         "type": "float"
        }
       ],
       "ref": "e47ddb60-8671-47c1-a224-41fe15b343ac",
       "rows": [
        [
         "0",
         "12",
         "200.0",
         "300.0",
         "95.0",
         "0.3",
         "163.92117539519455"
        ],
        [
         "1",
         "23",
         "800.0",
         "250.0",
         "95.0",
         "0.25",
         "1592.0305726526944"
        ],
        [
         "2",
         "34",
         "200.0",
         "250.0",
         "95.0",
         "0.25",
         "398.0076431631736"
        ],
        [
         "3",
         "41",
         "800.0",
         "250.0",
         "95.0",
         "0.25",
         "1592.0305726526944"
        ]
       ],
       "shape": {
        "columns": 6,
        "rows": 4
       }
      },
      "text/html": [
       "<div>\n",
       "<style scoped>\n",
       "    .dataframe tbody tr th:only-of-type {\n",
       "        vertical-align: middle;\n",
       "    }\n",
       "\n",
       "    .dataframe tbody tr th {\n",
       "        vertical-align: top;\n",
       "    }\n",
       "\n",
       "    .dataframe thead th {\n",
       "        text-align: right;\n",
       "    }\n",
       "</style>\n",
       "<table border=\"1\" class=\"dataframe\">\n",
       "  <thead>\n",
       "    <tr style=\"text-align: right;\">\n",
       "      <th></th>\n",
       "      <th>Tuberia</th>\n",
       "      <th>Long (m)</th>\n",
       "      <th>Diam (mm)</th>\n",
       "      <th>CH</th>\n",
       "      <th>Diam (m)</th>\n",
       "      <th>K</th>\n",
       "    </tr>\n",
       "  </thead>\n",
       "  <tbody>\n",
       "    <tr>\n",
       "      <th>0</th>\n",
       "      <td>12</td>\n",
       "      <td>200.0</td>\n",
       "      <td>300.0</td>\n",
       "      <td>95.0</td>\n",
       "      <td>0.30</td>\n",
       "      <td>163.921175</td>\n",
       "    </tr>\n",
       "    <tr>\n",
       "      <th>1</th>\n",
       "      <td>23</td>\n",
       "      <td>800.0</td>\n",
       "      <td>250.0</td>\n",
       "      <td>95.0</td>\n",
       "      <td>0.25</td>\n",
       "      <td>1592.030573</td>\n",
       "    </tr>\n",
       "    <tr>\n",
       "      <th>2</th>\n",
       "      <td>34</td>\n",
       "      <td>200.0</td>\n",
       "      <td>250.0</td>\n",
       "      <td>95.0</td>\n",
       "      <td>0.25</td>\n",
       "      <td>398.007643</td>\n",
       "    </tr>\n",
       "    <tr>\n",
       "      <th>3</th>\n",
       "      <td>41</td>\n",
       "      <td>800.0</td>\n",
       "      <td>250.0</td>\n",
       "      <td>95.0</td>\n",
       "      <td>0.25</td>\n",
       "      <td>1592.030573</td>\n",
       "    </tr>\n",
       "  </tbody>\n",
       "</table>\n",
       "</div>"
      ],
      "text/plain": [
       "  Tuberia  Long (m)  Diam (mm)    CH  Diam (m)            K\n",
       "0      12     200.0      300.0  95.0      0.30   163.921175\n",
       "1      23     800.0      250.0  95.0      0.25  1592.030573\n",
       "2      34     200.0      250.0  95.0      0.25   398.007643\n",
       "3      41     800.0      250.0  95.0      0.25  1592.030573"
      ]
     },
     "execution_count": 80,
     "metadata": {},
     "output_type": "execute_result"
    }
   ],
   "source": [
    "# Transcripción de datos iniciales de la red cerrada (no se incluye la tubería \n",
    "# de alimentación a la misma)\n",
    "Tuberia = ['12', '23', '34', '41']\n",
    "Long_m = [200., 800., 200., 800.]\n",
    "Diam_mm = [300., 250., 250., 250.]\n",
    "CH = [95.] * 4\n",
    "\n",
    "# Convirtiendo los datos en un dataframe para poder tener todo en un solo sitio\n",
    "datos_tubos = pd.DataFrame({\n",
    "    'Tuberia': Tuberia, \n",
    "    'Long (m)': Long_m,\n",
    "    'Diam (mm)': Diam_mm,\n",
    "    'CH': CH\n",
    "}\n",
    ")\n",
    "\n",
    "# Agregando algunas columnas útiles para los cálculos posteriores\n",
    "datos_tubos['Diam (m)'] = datos_tubos['Diam (mm)'] / 1000\n",
    "datos_tubos['K'] = 10.674 * datos_tubos['Long (m)'] / \\\n",
    "(datos_tubos['CH'] * datos_tubos['Diam (m)'] ** 2.63) ** 1.85\n",
    "\n",
    "# Imprimiendo los datos para verificación\n",
    "datos_tubos"
   ]
  },
  {
   "cell_type": "markdown",
   "id": "1327003f",
   "metadata": {},
   "source": [
    "## Ecuaciones de gobierno del sistema\n",
    "\n",
    "Se usarán 3 ecuaciones de conservación de masa y la de conservación de energía en el ecircuito. Se tienen, entonces, 4 ecuaciones para 4 incógnitas. Para los sentidos de los caudales, se asumirá que todos son *positivos*. Es decir, que van circulando en sentido horario. Las ecuaciones de conservación de masa quedan:\n",
    "\n",
    "$$Q_{12} - Q_{41} - 0.120\\ m^3/s + 0.015\\ m^3/s = 0 \\rightarrow Q_{12} - Q_{41} = 0.105\\ m^3/s$$\n",
    "$$-Q_{12} + Q_{23} = -0.03\\ m^3/s$$\n",
    "$$-Q_{23} + Q_{34} = -0.06\\ m^3/s$$\n",
    "\n",
    "La ecuación de conservación de energía en el circuito es: \n",
    "\n",
    "$$K_{12}|Q_{12}|^{0.85}+K_{23}|Q_{23}|^{0.85}+K_{34}|Q_{34}|^{0.85}+K_{41}|Q_{41}|^{0.85}=0$$\n",
    "\n",
    "Dentro de la matriz, cada valor es un $K_{ij}|Q_{ij}|^{0.85}$. A cada uno de los coeficientes se le llamará $C_{ij}$. El cálculo de dicho $C$ se hará mediante una función y se guardará, en cada paso, en el dataframe de información sobre la tubería. No se guaradrán valores intermedios, ya que estos no son importantes para el desarrollo del ejercicio."
   ]
  },
  {
   "cell_type": "code",
   "execution_count": null,
   "id": "3bef114a",
   "metadata": {},
   "outputs": [
    {
     "name": "stdout",
     "output_type": "stream",
     "text": [
      "La matriz de coeficientes  con caudales de prueba queda:\n",
      "\n",
      "[[  1.      0.      0.     -1.   ]\n",
      " [ -1.      1.      0.      0.   ]\n",
      " [  0.     -1.      1.      0.   ]\n",
      " [ 58.91  883.234 220.809 883.234]]\n",
      "\n",
      "El vector de mano derecha de la ecuación:\n",
      "\n",
      "[ 0.105 -0.03  -0.06   0.   ]\n"
     ]
    }
   ],
   "source": [
    "# Definiendo una matriz cuadrada de ceros para poder poner los coeficientes\n",
    "Mat_coef = np.zeros((len(datos_tubos), len(datos_tubos)))\n",
    "\n",
    "# Orden de los tubos: 12[0] - 23[1] - 34[2] - 41[3]\n",
    "# Poniendo las ecuaciones de conservación de masa (no cambian en iteraciones)\n",
    "Mat_coef[0, 0] = 1\n",
    "Mat_coef[0, 3] = -1\n",
    "\n",
    "Mat_coef[1, 0] = -1\n",
    "Mat_coef[1, 1] = 1\n",
    "\n",
    "Mat_coef[2, 1] = -1\n",
    "Mat_coef[2, 2] = 1\n",
    "\n",
    "# Ahora se define una función para acutalizar los valores de la última fila de \n",
    "# la matriz\n",
    "def Llenar_mat(A, Q, datos_tubos):\n",
    "\n",
    "    datos_tubos['Q'] = Q\n",
    "    datos_tubos['C'] = np.abs(datos_tubos['Q']) ** 0.85 * datos_tubos['K']\n",
    "\n",
    "    A[3, :] = datos_tubos['C']\n",
    "\n",
    "    return A\n",
    "\n",
    "# Probando con valores arbitrarios\n",
    "Q = [0.3, 0.5, 0.5, 0.5]\n",
    "Mat_coef = Llenar_mat(Mat_coef, Q, datos_tubos)\n",
    "\n",
    "# Definiendo el vector de mano derecha del sistema\n",
    "b = np.array([0.105, -0.030, -0.06, 0.])\n",
    "\n",
    "# Imprmiendo la prueba para poder revisar si todo está bien llenado\n",
    "print('La matriz de coeficientes  con caudales de prueba queda:\\n')\n",
    "print(np.round(Mat_coef, 3))\n",
    "print('\\nEl vector de mano derecha de la ecuación:\\n')\n",
    "print(b)"
   ]
  },
  {
   "cell_type": "code",
   "execution_count": null,
   "id": "c54b8bb6",
   "metadata": {},
   "outputs": [
    {
     "name": "stdout",
     "output_type": "stream",
     "text": [
      "\n",
      "Iteración: 1\tError: 0.198182\n",
      "Caudales: [ 0.0669  0.0369 -0.0231 -0.0381]\n",
      "\n",
      "Matriz de coeficientes:\n",
      "\n",
      "[[  1.      0.      0.     -1.   ]\n",
      " [ -1.      1.      0.      0.   ]\n",
      " [  0.     -1.      1.      0.   ]\n",
      " [ 23.154 224.88   56.22  224.88 ]]\n",
      "\n",
      "Iteración: 2\tError: 0.121962\n",
      "Caudales: [ 0.0545  0.0245 -0.0355 -0.0505]\n",
      "\n",
      "Matriz de coeficientes:\n",
      "\n",
      "[[  1.      0.      0.     -1.   ]\n",
      " [ -1.      1.      0.      0.   ]\n",
      " [  0.     -1.      1.      0.   ]\n",
      " [ 19.858 162.974  24.959  83.03 ]]\n",
      "\n",
      "Iteración: 3\tError: 0.085804\n",
      "Caudales: [ 0.0415  0.0115 -0.0485 -0.0635]\n",
      "\n",
      "Matriz de coeficientes:\n",
      "\n",
      "[[  1.      0.      0.     -1.   ]\n",
      " [ -1.      1.      0.      0.   ]\n",
      " [  0.     -1.      1.      0.   ]\n",
      " [ 16.889 117.278   1.575  31.113]]\n",
      "\n",
      "Iteración: 4\tError: 0.015458\n",
      "Caudales: [ 0.0678  0.0378 -0.0222 -0.0372]\n",
      "\n",
      "Matriz de coeficientes:\n",
      "\n",
      "[[ 1.     0.     0.    -1.   ]\n",
      " [-1.     1.     0.     0.   ]\n",
      " [ 0.    -1.     1.     0.   ]\n",
      " [13.984 78.529 16.415 95.749]]\n",
      "\n",
      "Iteración: 5\tError: 0.005524\n",
      "Caudales: [ 0.0657  0.0357 -0.0243 -0.0393]\n",
      "\n",
      "Matriz de coeficientes:\n",
      "\n",
      "[[ 1.     0.     0.    -1.   ]\n",
      " [-1.     1.     0.     0.   ]\n",
      " [ 0.    -1.     1.     0.   ]\n",
      " [15.328 88.596 16.015 96.337]]\n",
      "\n",
      "Iteración: 6\tError: 0.002748\n",
      "Caudales: [ 0.0657  0.0357 -0.0243 -0.0393]\n",
      "\n",
      "Matriz de coeficientes:\n",
      "\n",
      "[[ 1.     0.     0.    -1.   ]\n",
      " [-1.     1.     0.     0.   ]\n",
      " [ 0.    -1.     1.     0.   ]\n",
      " [15.769 91.18  16.447 98.982]]\n",
      "\n",
      "Iteración: 7\tError: 0.001373\n",
      "Caudales: [ 0.0657  0.0357 -0.0243 -0.0393]\n",
      "\n",
      "Matriz de coeficientes:\n",
      "\n",
      "[[  1.      0.      0.     -1.   ]\n",
      " [ -1.      1.      0.      0.   ]\n",
      " [  0.     -1.      1.      0.   ]\n",
      " [ 15.985  92.432  16.671 100.334]]\n",
      "\n",
      "Iteración: 8\tError: 0.000687\n",
      "Caudales: [ 0.0657  0.0357 -0.0243 -0.0393]\n",
      "\n",
      "Matriz de coeficientes:\n",
      "\n",
      "[[  1.      0.      0.     -1.   ]\n",
      " [ -1.      1.      0.      0.   ]\n",
      " [  0.     -1.      1.      0.   ]\n",
      " [ 16.093  93.055  16.784 101.01 ]]\n",
      "\n",
      "Iteración: 9\tError: 0.000343\n",
      "Caudales: [ 0.0657  0.0357 -0.0243 -0.0393]\n",
      "\n",
      "Matriz de coeficientes:\n",
      "\n",
      "[[  1.      0.      0.     -1.   ]\n",
      " [ -1.      1.      0.      0.   ]\n",
      " [  0.     -1.      1.      0.   ]\n",
      " [ 16.146  93.367  16.84  101.348]]\n",
      "\n",
      "Iteración: 10\tError: 0.000172\n",
      "Caudales: [ 0.0657  0.0357 -0.0243 -0.0393]\n",
      "\n",
      "Matriz de coeficientes:\n",
      "\n",
      "[[  1.      0.      0.     -1.   ]\n",
      " [ -1.      1.      0.      0.   ]\n",
      " [  0.     -1.      1.      0.   ]\n",
      " [ 16.173  93.522  16.868 101.517]]\n",
      "\n",
      "Iteración: 11\tError: 0.000086\n",
      "Caudales: [ 0.0657  0.0357 -0.0243 -0.0393]\n",
      "\n",
      "Matriz de coeficientes:\n",
      "\n",
      "[[  1.      0.      0.     -1.   ]\n",
      " [ -1.      1.      0.      0.   ]\n",
      " [  0.     -1.      1.      0.   ]\n",
      " [ 16.187  93.6    16.882 101.601]]\n"
     ]
    }
   ],
   "source": [
    "# Parámetros numéricos de solver\n",
    "err = 1e10\n",
    "tol = 1e-4\n",
    "count = 1\n",
    "\n",
    "# Suposición inicial de caudales\n",
    "Q0 = np.array([0.1] * 4)\n",
    "\n",
    "# Iterando para resolver el sistema\n",
    "while err > tol: \n",
    "\n",
    "    # Llenar la matriz\n",
    "    Mat_coef = Llenar_mat(Mat_coef, Q0, datos_tubos)\n",
    "\n",
    "    # Resolver el sistema\n",
    "    Q1 = np.linalg.solve(Mat_coef, b)\n",
    "    \n",
    "    # Calcular el error\n",
    "    err = np.linalg.norm(Q1 - Q0)\n",
    "\n",
    "    # Imprmir resultado parcial\n",
    "    print(f'\\nIteración: {count}\\tError: {err:5f}')\n",
    "    print('Caudales: ' + str(np.round(Q1, 4)) + '\\n')\n",
    "    print('Matriz de coeficientes:\\n')\n",
    "    print(np.round(Mat_coef, 3))\n",
    "    \n",
    "    # Reemplazar valores (se promedian valor anterior y posterior para reducir \n",
    "    # oscilaciones espurias en el método de solución)\n",
    "    count += 1\n",
    "    Q0 = 0.5 * (Q1 + Q0)"
   ]
  },
  {
   "cell_type": "markdown",
   "id": "faf5d2fd",
   "metadata": {},
   "source": [
    "## Cálculo de pérdidas de energía\n",
    "\n",
    "A diferencia del método de Cross, no es posible cuantificar las pérdidas a medida que se va iterando. Entonces, ya con los caudales finales se procede a calcular las pérdidas en cada uno de los tramos. Luego, Habiendo asignado la altura de cada uno de los nodos en $z = 70\\ m$, se procede a calcular la carga de presión en cada uno de ellos. "
   ]
  },
  {
   "cell_type": "code",
   "execution_count": 83,
   "id": "56b70bd3",
   "metadata": {},
   "outputs": [
    {
     "data": {
      "application/vnd.microsoft.datawrangler.viewer.v0+json": {
       "columns": [
        {
         "name": "index",
         "rawType": "int64",
         "type": "integer"
        },
        {
         "name": "Tuberia",
         "rawType": "object",
         "type": "string"
        },
        {
         "name": "Q (L/s)",
         "rawType": "float64",
         "type": "float"
        },
        {
         "name": "he (m)",
         "rawType": "float64",
         "type": "float"
        }
       ],
       "ref": "cb6e9625-da0b-4649-a689-23d0ed95e8fc",
       "rows": [
        [
         "0",
         "12",
         "65.692",
         "1.064"
        ],
        [
         "1",
         "23",
         "35.692",
         "3.344"
        ],
        [
         "2",
         "34",
         "24.308",
         "-0.411"
        ],
        [
         "3",
         "41",
         "39.308",
         "-3.997"
        ]
       ],
       "shape": {
        "columns": 3,
        "rows": 4
       }
      },
      "text/html": [
       "<div>\n",
       "<style scoped>\n",
       "    .dataframe tbody tr th:only-of-type {\n",
       "        vertical-align: middle;\n",
       "    }\n",
       "\n",
       "    .dataframe tbody tr th {\n",
       "        vertical-align: top;\n",
       "    }\n",
       "\n",
       "    .dataframe thead th {\n",
       "        text-align: right;\n",
       "    }\n",
       "</style>\n",
       "<table border=\"1\" class=\"dataframe\">\n",
       "  <thead>\n",
       "    <tr style=\"text-align: right;\">\n",
       "      <th></th>\n",
       "      <th>Tuberia</th>\n",
       "      <th>Q (L/s)</th>\n",
       "      <th>he (m)</th>\n",
       "    </tr>\n",
       "  </thead>\n",
       "  <tbody>\n",
       "    <tr>\n",
       "      <th>0</th>\n",
       "      <td>12</td>\n",
       "      <td>65.692</td>\n",
       "      <td>1.064</td>\n",
       "    </tr>\n",
       "    <tr>\n",
       "      <th>1</th>\n",
       "      <td>23</td>\n",
       "      <td>35.692</td>\n",
       "      <td>3.344</td>\n",
       "    </tr>\n",
       "    <tr>\n",
       "      <th>2</th>\n",
       "      <td>34</td>\n",
       "      <td>24.308</td>\n",
       "      <td>-0.411</td>\n",
       "    </tr>\n",
       "    <tr>\n",
       "      <th>3</th>\n",
       "      <td>41</td>\n",
       "      <td>39.308</td>\n",
       "      <td>-3.997</td>\n",
       "    </tr>\n",
       "  </tbody>\n",
       "</table>\n",
       "</div>"
      ],
      "text/plain": [
       "  Tuberia  Q (L/s)  he (m)\n",
       "0      12   65.692   1.064\n",
       "1      23   35.692   3.344\n",
       "2      34   24.308  -0.411\n",
       "3      41   39.308  -3.997"
      ]
     },
     "execution_count": 83,
     "metadata": {},
     "output_type": "execute_result"
    }
   ],
   "source": [
    "# Poniendo la respuesta en la columna de caudales\n",
    "datos_tubos['Q'] = np.abs(Q1)\n",
    "datos_tubos['Q (L/s)'] = np.round(datos_tubos['Q'] * 1000, 3)\n",
    "\n",
    "# Asignando el sentido de giro en el dataframe\n",
    "datos_tubos['Sentido'] = (Q1 / np.abs(Q1))\n",
    "\n",
    "# Calculando la pérdida\n",
    "datos_tubos['he (m)'] = np.round(datos_tubos['K'] * datos_tubos['Q'] ** 1.85 *\\\n",
    "datos_tubos['Sentido'], 3)\n",
    "\n",
    "# Presentando los resultados de los caudales y las pérdidas por tramo\n",
    "datos_tubos[['Tuberia', 'Q (L/s)', 'he (m)']]"
   ]
  },
  {
   "cell_type": "code",
   "execution_count": null,
   "id": "789ebc5e",
   "metadata": {},
   "outputs": [
    {
     "name": "stdout",
     "output_type": "stream",
     "text": [
      "Suma de las pérdidas de carga en el circuito: \n",
      "0.0  m\n"
     ]
    }
   ],
   "source": [
    "# Comprobando que la suma de las pérdidas de carga con sentido es igual a 0\n",
    "print('Suma de las pérdidas de carga en el circuito: ')\n",
    "print(np.round(sum(datos_tubos['he (m)']), 4), ' m')"
   ]
  },
  {
   "cell_type": "code",
   "execution_count": null,
   "id": "ea73c3c1",
   "metadata": {},
   "outputs": [
    {
     "data": {
      "application/vnd.microsoft.datawrangler.viewer.v0+json": {
       "columns": [
        {
         "name": "index",
         "rawType": "int64",
         "type": "integer"
        },
        {
         "name": "Nodo",
         "rawType": "object",
         "type": "string"
        },
        {
         "name": "CargaP (m)",
         "rawType": "float64",
         "type": "float"
        }
       ],
       "ref": "dadd0367-4fb5-4269-b6d0-d09b46c5d398",
       "rows": [
        [
         "0",
         "A",
         "100.0"
        ],
        [
         "1",
         "1",
         "99.6"
        ],
        [
         "2",
         "2",
         "98.536"
        ],
        [
         "3",
         "3",
         "95.192"
        ],
        [
         "4",
         "4",
         "95.603"
        ]
       ],
       "shape": {
        "columns": 2,
        "rows": 5
       }
      },
      "text/html": [
       "<div>\n",
       "<style scoped>\n",
       "    .dataframe tbody tr th:only-of-type {\n",
       "        vertical-align: middle;\n",
       "    }\n",
       "\n",
       "    .dataframe tbody tr th {\n",
       "        vertical-align: top;\n",
       "    }\n",
       "\n",
       "    .dataframe thead th {\n",
       "        text-align: right;\n",
       "    }\n",
       "</style>\n",
       "<table border=\"1\" class=\"dataframe\">\n",
       "  <thead>\n",
       "    <tr style=\"text-align: right;\">\n",
       "      <th></th>\n",
       "      <th>Nodo</th>\n",
       "      <th>CargaP (m)</th>\n",
       "    </tr>\n",
       "  </thead>\n",
       "  <tbody>\n",
       "    <tr>\n",
       "      <th>0</th>\n",
       "      <td>A</td>\n",
       "      <td>100.000</td>\n",
       "    </tr>\n",
       "    <tr>\n",
       "      <th>1</th>\n",
       "      <td>1</td>\n",
       "      <td>99.600</td>\n",
       "    </tr>\n",
       "    <tr>\n",
       "      <th>2</th>\n",
       "      <td>2</td>\n",
       "      <td>98.536</td>\n",
       "    </tr>\n",
       "    <tr>\n",
       "      <th>3</th>\n",
       "      <td>3</td>\n",
       "      <td>95.192</td>\n",
       "    </tr>\n",
       "    <tr>\n",
       "      <th>4</th>\n",
       "      <td>4</td>\n",
       "      <td>95.603</td>\n",
       "    </tr>\n",
       "  </tbody>\n",
       "</table>\n",
       "</div>"
      ],
      "text/plain": [
       "  Nodo  CargaP (m)\n",
       "0    A     100.000\n",
       "1    1      99.600\n",
       "2    2      98.536\n",
       "3    3      95.192\n",
       "4    4      95.603"
      ]
     },
     "execution_count": 92,
     "metadata": {},
     "output_type": "execute_result"
    }
   ],
   "source": [
    "# Creando un dataframe de nodos para mostrar la carga en cada uno de ellos\n",
    "Nodos = ['A', '1', '2', '3', '4']\n",
    "\n",
    "datos_nodos = pd.DataFrame({\n",
    "    'Nodo': Nodos\n",
    "})\n",
    "\n",
    "Carga = np.zeros(len(Nodos))\n",
    "\n",
    "Carga[0] = 100\n",
    "Carga[1] = 100 - 10.674 * 100 * (0.12 / (95 * 0.4 ** 2.63)) ** 1.85\n",
    "Carga[2] = Carga[1] - datos_tubos['he (m)'][0]\n",
    "Carga[3] = Carga[2] - datos_tubos['he (m)'][1]\n",
    "Carga[4] = Carga[3] - datos_tubos['he (m)'][2]\n",
    "\n",
    "datos_nodos['CargaP (m)'] = np.round(Carga, 3)\n",
    "\n",
    "datos_nodos"
   ]
  }
 ],
 "metadata": {
  "kernelspec": {
   "display_name": "base",
   "language": "python",
   "name": "python3"
  },
  "language_info": {
   "codemirror_mode": {
    "name": "ipython",
    "version": 3
   },
   "file_extension": ".py",
   "mimetype": "text/x-python",
   "name": "python",
   "nbconvert_exporter": "python",
   "pygments_lexer": "ipython3",
   "version": "3.12.7"
  }
 },
 "nbformat": 4,
 "nbformat_minor": 5
}
